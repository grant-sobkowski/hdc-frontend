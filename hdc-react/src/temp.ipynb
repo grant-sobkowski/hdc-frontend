{
 "cells": [
  {
   "cell_type": "code",
   "execution_count": 17,
   "metadata": {},
   "outputs": [
    {
     "name": "stdout",
     "output_type": "stream",
     "text": [
      "{'Albania': 'ALB', 'Algeria': 'DZA', 'Argentina': 'ARG', 'Australia': 'AUS', 'Austria': 'AUT', 'Bahamas': 'BHS', 'Bahrain': 'BHR', 'Bangladesh': 'BGD', 'Belarus': 'BLR', 'Belgium': 'BEL', 'Botswana': 'BWA', 'Brazil': 'BRA', 'Brunei': 'BRN', 'Cambodia': 'KHM', 'Canada': 'CAN', 'Cape Verde': 'CPV', 'Chile': 'CHL', 'China': 'CHN', 'Costa Rica': 'CRI', 'Czechia': 'CZE', 'Denmark': 'DNK', 'Egypt': 'EGY', 'El Salvador': 'SLV', 'Eswatini': 'SWZ', 'Fiji': 'FJI', 'Finland': 'FIN', 'France': 'FRA', 'Germany': 'DEU', 'Ghana': 'GHA', 'Greece': 'GRC', 'Hungary': 'HUN', 'India': 'IND', 'Indonesia': 'IDN', 'Iran': 'IRN', 'Israel': 'ISR', 'Italy': 'ITA', 'Japan': 'KPN', 'Kenya': 'KEN', 'Lithuania': 'LTU', 'Luxembourg': 'LUX', 'Malawi': 'MWI', 'Malaysia': 'MYS', 'Malta': 'MLT', 'Mexico': 'MEX', 'Moldova': 'MDA', 'Morocco': 'MAR', 'Mozambique': 'MOZ', 'Nepal': 'NPL', 'Netherlands': 'NLD', 'New Zealand': 'NZL', 'Norway': 'NOR', 'Pakistan': 'PAK', 'Panama': 'PAN', 'Paraguay': 'PRY', 'Philippines': 'PHL', 'Poland': 'POL', 'Portugal': 'PRT', 'Russia': 'RUS', 'South Africa': 'ZAF', 'South Korea': 'KOR', 'Spain': 'ESP', 'Sri Lanka': 'LKA', 'Switzerland': 'CHE', 'Thailand': 'THA', 'Timor': 'TLS', 'Turkey': 'TUR', 'Uganda': 'UGA', 'United Kingdom': 'GBR', 'United States': 'USA', 'Uruguay': 'URY', 'Vietnam': 'VNM', 'Zimbabwe': 'ZWE'}\n"
     ]
    }
   ],
   "source": [
    "import json\n",
    "\n",
    "jdata = open('./new-data.json', 'r')\n",
    "jgraphdata = open('./graph-data.json', 'r')\n",
    "jfrontdata = open('./front-data.json', 'r')\n",
    "\n",
    "data = json.load(jdata)\n",
    "graphdata = json.load(jgraphdata)\n",
    "frontdata = json.load(jfrontdata)\n",
    "\n",
    "tdict = {}\n",
    "\n",
    "for key in frontdata:\n",
    "  iata = frontdata[key][\"index\"]\n",
    "  tdict[iata] = key\n",
    "\n",
    "print(tdict)"
   ]
  }
 ],
 "metadata": {
  "kernelspec": {
   "display_name": "Python 3.10.6 64-bit",
   "language": "python",
   "name": "python3"
  },
  "language_info": {
   "codemirror_mode": {
    "name": "ipython",
    "version": 3
   },
   "file_extension": ".py",
   "mimetype": "text/x-python",
   "name": "python",
   "nbconvert_exporter": "python",
   "pygments_lexer": "ipython3",
   "version": "3.10.6"
  },
  "orig_nbformat": 4,
  "vscode": {
   "interpreter": {
    "hash": "916dbcbb3f70747c44a77c7bcd40155683ae19c65e1c03b4aa3499c5328201f1"
   }
  }
 },
 "nbformat": 4,
 "nbformat_minor": 2
}
